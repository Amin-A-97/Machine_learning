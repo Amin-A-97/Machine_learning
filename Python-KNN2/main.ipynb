{
 "cells": [
  {
   "cell_type": "code",
   "execution_count": 131,
   "metadata": {},
   "outputs": [
    {
     "name": "stdout",
     "output_type": "stream",
     "text": [
      "=============\n",
      "Result\n",
      "Correct: 29\n",
      "Wrong: 1\n",
      "=============\n",
      "TrainACC : 0.9666666666666667\n",
      "TestACC : 0.9666666666666667\n"
     ]
    }
   ],
   "source": [
    "#Import Libraries\n",
    "import pandas as pd\n",
    "import numpy as np\n",
    "#SkLearn\n",
    "from sklearn import preprocessing\n",
    "from sklearn.neighbors import KNeighborsClassifier\n",
    "from sklearn.model_selection import train_test_split\n",
    "\n",
    "data = pd.read_csv('iris-flower-dataset.csv')\n",
    "mpr = preprocessing.LabelEncoder()\n",
    "specieslbl = mpr.fit_transform(list(data['species']))\n",
    "\n",
    "X = np.array(data.drop(['species'],axis=1))\n",
    "y = np.array(specieslbl)\n",
    "\n",
    "model = KNeighborsClassifier(n_neighbors=7)\n",
    "\n",
    "x_train , x_test , y_train , y_test = train_test_split(X,y,test_size=0.2,random_state=1)\n",
    "model.fit(x_train,y_train)\n",
    "\n",
    "\n",
    "predict = model.predict(x_test)\n",
    "Correct = list()\n",
    "wrong = list()\n",
    "for i in range(len(predict)):\n",
    "    if predict[i] == y_test[i]:\n",
    "        Correct.append(\"Correct!\")\n",
    "        # print(f\"Data {i+1}\")\n",
    "        # print(f\"Prediction {predict[i]}\")\n",
    "        # print(f\"Real {y_test[i]}\")\n",
    "        # print(f\"F {x_test[i]}\")\n",
    "        # print(\"=====================\")\n",
    "    else:\n",
    "        wrong.append(\"Wrong\")\n",
    "print(\"=============\")\n",
    "print(\"Result\")\n",
    "print(f\"Correct: {len(Correct)}\")\n",
    "print(f\"Wrong: {len(wrong)}\")\n",
    "print(\"=============\")\n",
    "print(f\"TrainACC : {model.score(x_train,y_train)}\")\n",
    "print(f\"TestACC : {model.score(x_test,y_test)}\")"
   ]
  },
  {
   "cell_type": "code",
   "execution_count": null,
   "metadata": {},
   "outputs": [],
   "source": []
  },
  {
   "cell_type": "code",
   "execution_count": null,
   "metadata": {},
   "outputs": [],
   "source": []
  },
  {
   "cell_type": "code",
   "execution_count": null,
   "metadata": {},
   "outputs": [],
   "source": []
  },
  {
   "cell_type": "code",
   "execution_count": null,
   "metadata": {},
   "outputs": [],
   "source": []
  }
 ],
 "metadata": {
  "kernelspec": {
   "display_name": "Python 3",
   "language": "python",
   "name": "python3"
  },
  "language_info": {
   "codemirror_mode": {
    "name": "ipython",
    "version": 3
   },
   "file_extension": ".py",
   "mimetype": "text/x-python",
   "name": "python",
   "nbconvert_exporter": "python",
   "pygments_lexer": "ipython3",
   "version": "3.12.2"
  }
 },
 "nbformat": 4,
 "nbformat_minor": 2
}
